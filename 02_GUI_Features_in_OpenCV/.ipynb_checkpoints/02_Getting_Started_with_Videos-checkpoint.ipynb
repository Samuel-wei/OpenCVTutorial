{
 "cells": [
  {
   "cell_type": "markdown",
   "metadata": {},
   "source": [
    "# 目标\n",
    "- 学习如何读取视频、显示视频和保存视频。\n",
    "- 学习如何捕获摄像头并显示。\n",
    "- 将学习以下函数：**cv2.VideoCapture()**和**cv2.VideoWriter()**。\n",
    "\n",
    "# 1. 从摄像头捕获视频\n",
    "经常需要从摄像头捕获实时图像流，OpenCV提供了非常简单的接口来实现这一需求。下面将从摄像头捕获视频，将其转换为灰度视频并显示。\n",
    "\n",
    "为了捕获视频，需要创建一个**VideoCapture**对象，它的参数可以使设备索引或视频文件的文件名。设备索引是特定摄像头的号码。在系统只连接了一个摄像头的情况下，可以直接将其设置为**1**（或**-1**）。可以传递**1**给参数来访问第二个摄像头。之后，就可以逐帧的捕获图像。最后，不要忘记释放捕获对象。"
   ]
  },
  {
   "cell_type": "code",
   "execution_count": null,
   "metadata": {
    "collapsed": true
   },
   "outputs": [],
   "source": [
    "import numpy as np\n",
    "import cv2"
   ]
  },
  {
   "cell_type": "code",
   "execution_count": null,
   "metadata": {
    "collapsed": true
   },
   "outputs": [],
   "source": [
    "cap = cv2.VideoCapture(0)\n",
    "\n",
    "while True:\n",
    "    # 逐帧捕获图像\n",
    "    ret, frame = cap.read()\n",
    "    \n",
    "    # 将图像转换为灰度图像\n",
    "    gray = cv2.cvtColor(frame, cv2.COLOR_BGR2GRAY)\n",
    "    \n",
    "    # 显示结果图像\n",
    "    cv2.imshow('frame', gray)\n",
    "    if cv2.waitKey(1) & 0xFF == ord('q'):\n",
    "        break\n",
    "\n",
    "# 释放捕获\n",
    "cap.release()\n",
    "cv2.destroyAllWindows()"
   ]
  },
  {
   "cell_type": "markdown",
   "metadata": {},
   "source": [
    "**cap.read()**返回一个布尔值（True/False），表示frame是否正确的读入，True表示正确读入。因此，可以通过检查返回值来确定视频是否到达了结尾。\n",
    "\n",
    "有时，**cap**可能未能初始化捕获。在这种情况下代码会报错。可以用方法**cap.isOpened()**来检查是否完成了初始化。如果返回值是True，表示已经完成初始化，否则调用**cap.open()**来开启捕获。\n",
    "\n",
    "还可以利用**cap.get(propId)**方法来获得视频的更多特征，**propId**取值为0到18，每个值都表示了视频的某个特征。有些值可以用**cap.set(propId, value)**来进行设置。\n",
    "\n",
    "例如，可以用**cap.get(3)**和**cap.get(4)**来获得视频的宽度和高度。默认情况下会返回 640\\*480，如果想将其改为 320\\*240，可以用**ret = cap.set(3, 320)**和**ret = cap.set(4, 240)**来设置。\n",
    "\n",
    "> **注意**  \n",
    "> 如果报错，首先要确保摄像头在其他应用中是否可以正确使用。\n",
    "\n",
    "# 2. 播放文件中的视频\n",
    "与捕获摄像头相同，只需要将摄像头索引替换为视频文件的名字。需要设置**cv2.waitKey()**的等待时间，等待时间太短视频播放速度会太快、等待时间过长视频播放速度会过慢。一般来说，可以设置为25毫秒。"
   ]
  },
  {
   "cell_type": "raw",
   "metadata": {},
   "source": [
    "import numpy as np\n",
    "import cv2\n",
    "\n",
    "cap = cv2.VideoCapture('../data/vtest.avi')\n",
    "cap.isOpened()\n",
    "while cap.isOpened():\n",
    "    ret, frame = cap.read()\n",
    "    print(frame.shape)\n",
    "    gray = cv2.cvtColor(frame, cv2.COLOR_BGR2GRAY)\n",
    "    \n",
    "    cv2.imshow('frame', frame)\n",
    "    if cv2.waitKey(1) & 0xFF == ord('q'):\n",
    "        break\n",
    "        \n",
    "cap.release()\n",
    "cv2.destroyAllWindows()"
   ]
  },
  {
   "cell_type": "markdown",
   "metadata": {},
   "source": [
    "> **注意**  \n",
    "> 确保安装了正确版本的**ffmpeg/gstreamer**。\n",
    "\n",
    "# 3. 保存视频\n",
    "捕获视频之后，逐帧处理时可能会需要保存视频。对于图像，只要使用**cv2.imwrite()**即可。保存视频需要更多的工作。\n",
    "\n",
    "首先要创建**VideoWriter**对象。需要指定输出文件的文件名（例如：output.avi）。然后指定**FourCC**代码。然后是每秒的帧数、帧的尺寸，最后是**isColor**标志。若该标志是True，则保存彩色视频，否则保存灰度视频。\n",
    "\n",
    "**FourCC**是用来指定视频编码格式的四字节编码。有效的编码列表可以查询[fourcc.org](http://fourcc.org)，该编码依赖于平台：\n",
    "- Fedora：DIVX/XVID/MJPG/X264/WMV1/WMV2（推荐使用XVID，MJPG会产生较大的文件，X264生成较小的视频文件）\n",
    "- Windows：DIVX\n",
    "- OSX：MJPG/DIVX/X264\n",
    "\n",
    "**FourCC**编码表示MJPG可用**cv2.VideoWriter_fourcc('M','J','P','G')**或**cv2.VideoWriter_fourcc(\\*\"MJPG\")**来表示。\n",
    "\n",
    "下面的代码捕获摄像头视频，垂直翻转每一帧然后保存。"
   ]
  },
  {
   "cell_type": "code",
   "execution_count": 2,
   "metadata": {
    "collapsed": false
   },
   "outputs": [],
   "source": [
    "import numpy as np\n",
    "import cv2\n",
    "\n",
    "cap = cv2.VideoCapture(0)\n",
    "\n",
    "# 定义编码器，创建VideoWriter对象\n",
    "fourcc = cv2.VideoWriter_fourcc(*\"MJPG\")\n",
    "out = cv2.VideoWriter('output.avi', fourcc, 20.0, (1280, 720))\n",
    "\n",
    "while cap.isOpened():\n",
    "    ret, frame = cap.read()\n",
    "    if ret == True:\n",
    "        frame = cv2.flip(frame, 0)\n",
    "        \n",
    "        # 写入翻转的图像\n",
    "        out.write(frame)\n",
    "        \n",
    "        cv2.imshow('frame', frame)\n",
    "        if cv2.waitKey(1) & 0xFF == ord('q'):\n",
    "            break\n",
    "    else:\n",
    "        break\n",
    "\n",
    "# 释放资源\n",
    "cap.release()\n",
    "out.release()\n",
    "cv2.destroyAllWindows()"
   ]
  }
 ],
 "metadata": {
  "anaconda-cloud": {},
  "kernelspec": {
   "display_name": "Python [conda root]",
   "language": "python",
   "name": "conda-root-py"
  },
  "language_info": {
   "codemirror_mode": {
    "name": "ipython",
    "version": 3
   },
   "file_extension": ".py",
   "mimetype": "text/x-python",
   "name": "python",
   "nbconvert_exporter": "python",
   "pygments_lexer": "ipython3",
   "version": "3.5.2"
  }
 },
 "nbformat": 4,
 "nbformat_minor": 1
}
