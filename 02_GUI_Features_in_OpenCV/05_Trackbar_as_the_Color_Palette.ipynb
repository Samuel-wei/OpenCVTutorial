{
 "cells": [
  {
   "cell_type": "markdown",
   "metadata": {},
   "source": [
    "# 目标\n",
    "- 学习如何将滑动条绑定到OpenCV窗口。\n",
    "- 将学习以下函数：**cv2.getTrackbarPos()**，**cv2.createTrackbar()**。\n",
    "\n",
    "# 代码示例\n",
    "下面的例子将创建显示指定颜色的简单应用。该应用包含一个用于显示颜色的窗口和三个用于指定B、G、R数值的滑动条。拖动滑块时窗口的颜色将随之改变。初始的颜色设置为黑色。\n",
    "\n",
    "**cv2.createTrackbar()**函数需要五个参数，第一个参数是滑动条的名字，第二个参数是要绑定滑动条的窗口的名字，第三个参数是默认的值，第四个参数是最大值，第五个参数是回调函数，该函数会在滑动条改变的时候被调用。回调函数以滑动条的位置值作为参数。在本例中，该函数不做任何操作，函数体为**pass**。\n",
    "\n",
    "滑动条另外一个重要的应用是将其作为一个按钮或者开关。在OpenCV中，默认没有提供按钮的功能。因此可以用滑动条实现这个功能。在下面的例子中，创建了一个开关，只有当开关打开时才可以调整颜色，如果关闭则显示黑色。"
   ]
  },
  {
   "cell_type": "code",
   "execution_count": 3,
   "metadata": {
    "collapsed": true
   },
   "outputs": [],
   "source": [
    "import cv2\n",
    "import numpy as np\n",
    "\n",
    "def nothing(x):\n",
    "    pass\n",
    "\n",
    "# 创建一个黑色的图像和一个窗口\n",
    "img = np.zeros((300, 512, 3), np.uint8)\n",
    "cv2.namedWindow('image')\n",
    "\n",
    "# 创建改变颜色的滑动条\n",
    "cv2.createTrackbar('R', 'image', 0, 255, nothing)\n",
    "cv2.createTrackbar('G', 'image', 0, 255, nothing)\n",
    "cv2.createTrackbar('B', 'image', 0, 255, nothing)\n",
    "\n",
    "# 创建开关\n",
    "switch = '0: OFF \\n1: ON'\n",
    "cv2.createTrackbar(switch, 'image', 0, 1, nothing)\n",
    "\n",
    "while True:\n",
    "    cv2.imshow('image', img)\n",
    "    k = cv2.waitKey(1) & 0xFF\n",
    "    if k == 27:\n",
    "        break\n",
    "    \n",
    "    # 获得四个滑动块当前的位置值\n",
    "    r = cv2.getTrackbarPos('R', 'image')\n",
    "    g = cv2.getTrackbarPos('G', 'image')\n",
    "    b = cv2.getTrackbarPos('B', 'image')\n",
    "    s = cv2.getTrackbarPos(switch, 'image')\n",
    "    \n",
    "    if s == 0:\n",
    "        img[:] = 0\n",
    "    else:\n",
    "        img[:] = [b, g, r]\n",
    "        \n",
    "cv2.destroyAllWindows()"
   ]
  },
  {
   "cell_type": "markdown",
   "metadata": {},
   "source": [
    "该应用的截屏如下图所示：  \n",
    "![](imgs\\05_1.jpg)\n",
    "\n",
    "# 练习\n",
    "1. 创建一个绘图程序，颜色和笔刷可以用滑动条来进行调整。绘图的实现参考上一讲处理鼠标操作的内容。"
   ]
  }
 ],
 "metadata": {
  "anaconda-cloud": {},
  "kernelspec": {
   "display_name": "Python [conda root]",
   "language": "python",
   "name": "conda-root-py"
  },
  "language_info": {
   "codemirror_mode": {
    "name": "ipython",
    "version": 3
   },
   "file_extension": ".py",
   "mimetype": "text/x-python",
   "name": "python",
   "nbconvert_exporter": "python",
   "pygments_lexer": "ipython3",
   "version": "3.5.2"
  }
 },
 "nbformat": 4,
 "nbformat_minor": 1
}
