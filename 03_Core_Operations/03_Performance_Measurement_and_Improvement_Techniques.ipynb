{
 "cells": [
  {
   "cell_type": "code",
   "execution_count": 1,
   "metadata": {
    "collapsed": true
   },
   "outputs": [],
   "source": [
    "from __future__ import print_function\n",
    "import numpy as np\n",
    "import cv2"
   ]
  },
  {
   "cell_type": "markdown",
   "metadata": {},
   "source": [
    "# 目标\n",
    "在图像处理中，要在每秒钟进行大量的运算，我们的任务不仅要提供正确的结果，还要有较快的处理速度。因此本节将学习：\n",
    "- 测量代码的性能；\n",
    "- 改善性能的一些提示；\n",
    "- 涉及以下函数：**cv2.getTickCount**，**cv2.getTickFrequency**等。\n",
    "\n",
    "除了OpenCV，Python提供了一个**time**模块用于测量运行时间。另一个模块**profile**可以获得代码执行更详细的报告，例如每个函数用了多少时间、函数进行了多少次调用等等。但是，如果使用**IPython**，所有这些特性被整合并提供一个更友好的接口。更多的细节可以阅读**额外资源**小节中的链接。\n",
    "\n",
    "# 1. 用OpenCV测量性能\n",
    "**cv2.getTickCount**函数返回在一个参考时间（例如开机的时刻）到调用该函数时的**时钟周期数**。因此在执行代码之前和之后分别调用该函数，就可以计算执行代码所用的时间。\n",
    "\n",
    "**cv2.getTickFrequency**函数返回时钟周期的频率，也就是每秒多少个时钟周期。因此可以得到以秒为单位的执行时间。"
   ]
  },
  {
   "cell_type": "code",
   "execution_count": 2,
   "metadata": {
    "collapsed": false
   },
   "outputs": [],
   "source": [
    "e1 = cv2.getTickCount()\n",
    "# 执行代码\n",
    "e2 = cv2.getTickCount()\n",
    "time = (e2 - e1) / cv2.getTickFrequency()"
   ]
  },
  {
   "cell_type": "markdown",
   "metadata": {},
   "source": [
    "下面的例子将展示如何使用这两个函数，该例子执行中值滤波，核的尺寸是5到49之间的奇数："
   ]
  },
  {
   "cell_type": "code",
   "execution_count": 3,
   "metadata": {
    "collapsed": false,
    "scrolled": true
   },
   "outputs": [
    {
     "name": "stdout",
     "output_type": "stream",
     "text": [
      "3.258087141\n"
     ]
    }
   ],
   "source": [
    "img1 = cv2.imread('forest.jpg')\n",
    "\n",
    "e1 = cv2.getTickCount()\n",
    "for i in range(5, 49, 2):\n",
    "    img1 = cv2.medianBlur(img1, i)\n",
    "e2 = cv2.getTickCount()\n",
    "t = (e2 - e1) / cv2.getTickFrequency()\n",
    "\n",
    "print(t)"
   ]
  },
  {
   "cell_type": "markdown",
   "metadata": {},
   "source": [
    "> **注意**  \n",
    "> 也可以用**time**模块来完成这一功能，可以用**time.time()**获得时间，然后计算两个时间之间的差。\n",
    "\n",
    "# 2. OpenCV中的默认优化\n",
    "许多OpenCV的函数使用了SSE2、AVX等优化功能。同时也包含无优化的代码。因此如果你的系统支持这些特性，那么就要利用这些特性（几乎所有的现代处理器都支持这些特性）。在编译时默认使用这些特性，因此如果OpenCV打开了这些特性，就执行优化代码，否则执行未优化的代码。可以使用**cv2.useOptimized()**来检查是否允许使用优化，用**cv2.setUseOptimized()**来设置是否使用优化代码。"
   ]
  },
  {
   "cell_type": "code",
   "execution_count": 4,
   "metadata": {
    "collapsed": false
   },
   "outputs": [
    {
     "name": "stdout",
     "output_type": "stream",
     "text": [
      "True\n"
     ]
    }
   ],
   "source": [
    "# 检查是否允许执行优化后的代码\n",
    "print(cv2.useOptimized())"
   ]
  },
  {
   "cell_type": "code",
   "execution_count": 5,
   "metadata": {
    "collapsed": false
   },
   "outputs": [
    {
     "name": "stdout",
     "output_type": "stream",
     "text": [
      "10 loops, best of 3: 147 ms per loop\n"
     ]
    }
   ],
   "source": [
    "%timeit res = cv2.medianBlur(img1, 49)"
   ]
  },
  {
   "cell_type": "code",
   "execution_count": 6,
   "metadata": {
    "collapsed": false
   },
   "outputs": [
    {
     "name": "stdout",
     "output_type": "stream",
     "text": [
      "False\n"
     ]
    }
   ],
   "source": [
    "cv2.setUseOptimized(False)\n",
    "print(cv2.useOptimized())"
   ]
  },
  {
   "cell_type": "code",
   "execution_count": 7,
   "metadata": {
    "collapsed": false
   },
   "outputs": [
    {
     "name": "stdout",
     "output_type": "stream",
     "text": [
      "1 loop, best of 3: 396 ms per loop\n"
     ]
    }
   ],
   "source": [
    "%timeit res = cv2.medianBlur(img1, 49)"
   ]
  },
  {
   "cell_type": "markdown",
   "metadata": {},
   "source": [
    "可以看到，优化后的中值滤波比未优化的代码快了近两倍。如果查看源码，可以看到中值滤波使用了SIMD来优化代码。因此可以再代码的最开始打开优化（默认都是打开的）。\n",
    "\n",
    "# 3. 用IPython来度量性能\n",
    "有时我们需要比较两个相似的运算性能如何，IPython提供了一个**Magic**命令来测量运算的时间。它运行代码若干次来获得精确的结果。该命令适合测量单行代码。\n",
    "\n",
    "下面的例子比较了不同的乘方运算的性能："
   ]
  },
  {
   "cell_type": "code",
   "execution_count": 8,
   "metadata": {
    "collapsed": false
   },
   "outputs": [
    {
     "name": "stdout",
     "output_type": "stream",
     "text": [
      "The slowest run took 6.04 times longer than the fastest. This could mean that an intermediate result is being cached.\n",
      "1000000 loops, best of 3: 362 ns per loop\n"
     ]
    }
   ],
   "source": [
    "x = 5\n",
    "%timeit y = x ** 2"
   ]
  },
  {
   "cell_type": "code",
   "execution_count": 9,
   "metadata": {
    "collapsed": false
   },
   "outputs": [
    {
     "name": "stdout",
     "output_type": "stream",
     "text": [
      "The slowest run took 13.52 times longer than the fastest. This could mean that an intermediate result is being cached.\n",
      "10000000 loops, best of 3: 83.7 ns per loop\n"
     ]
    }
   ],
   "source": [
    "%timeit y = x * x"
   ]
  },
  {
   "cell_type": "code",
   "execution_count": 10,
   "metadata": {
    "collapsed": false
   },
   "outputs": [
    {
     "name": "stdout",
     "output_type": "stream",
     "text": [
      "The slowest run took 52.54 times longer than the fastest. This could mean that an intermediate result is being cached.\n",
      "1000000 loops, best of 3: 680 ns per loop\n"
     ]
    }
   ],
   "source": [
    "z = np.uint8([5])\n",
    "%timeit y = z * z"
   ]
  },
  {
   "cell_type": "code",
   "execution_count": 11,
   "metadata": {
    "collapsed": false
   },
   "outputs": [
    {
     "name": "stdout",
     "output_type": "stream",
     "text": [
      "The slowest run took 79.17 times longer than the fastest. This could mean that an intermediate result is being cached.\n",
      "1000000 loops, best of 3: 651 ns per loop\n"
     ]
    }
   ],
   "source": [
    "%timeit y = np.square(z)"
   ]
  },
  {
   "cell_type": "markdown",
   "metadata": {},
   "source": [
    "上面的结果可以看到，**x = 5; y = x \\* x**比用Numpy运算快了近10倍。如果考虑数组的创建，有可能会快上100倍。\n",
    "\n",
    "> **注意**  \n",
    "> Python的标量运算比Numpy的标量运算要快，因此在涉及一两个元素的运算时，应该进行Python标量运算，而不是Numpy数组运算。Numpy在数组较大的时候才会发挥其优势。\n",
    "\n",
    "下面的例子，比较对同一张图像，两个函数**cv2.countNonZero()**和**np.count_nonzero()**的速度。"
   ]
  },
  {
   "cell_type": "code",
   "execution_count": 16,
   "metadata": {
    "collapsed": false
   },
   "outputs": [
    {
     "name": "stdout",
     "output_type": "stream",
     "text": [
      "1000 loops, best of 3: 902 µs per loop\n"
     ]
    }
   ],
   "source": [
    "cv2.setUseOptimized(True)\n",
    "img2 = img1[:, :, 0]\n",
    "%timeit z = cv2.countNonZero(img2)"
   ]
  },
  {
   "cell_type": "code",
   "execution_count": 17,
   "metadata": {
    "collapsed": false
   },
   "outputs": [
    {
     "name": "stdout",
     "output_type": "stream",
     "text": [
      "100 loops, best of 3: 3.42 ms per loop\n"
     ]
    }
   ],
   "source": [
    "%timeit z = np.count_nonzero(img2)"
   ]
  },
  {
   "cell_type": "markdown",
   "metadata": {},
   "source": [
    "可以看到OpenCV处理的速度是Numpy的30倍。\n",
    "\n",
    "> **注意**  \n",
    "> 通常情况下OpenCV的函数要比Numpy的函数要快。因此，对于相同的操作推荐使用OpenCV的函数。\n",
    "\n",
    "\n",
    "# 4. 更多的IPython魔法命令\n",
    "还有其他的一些魔法命令可以用来测量性能、内存使用等功能。由于其文档非常完备，因此请参考最后提供的链接。\n",
    "\n",
    "# 5. 性能优化技术\n",
    "存在一些最大化利用Python和Numpy的性能的技术和编程方法。优化代码的核心就是首先实现一个简单的算法实现，然后剖析它，找到瓶颈之后优化。\n",
    "1. 避免使用Python的循环，尤其是二重甚至三重循环。\n",
    "2. 将代码或算法尽最大的可能向量化，因为Numpy和OpenCV是针对向量运算进行优化的。\n",
    "3. 利用缓存一致性。\n",
    "4. 除非必要，不要拷贝数组，试着使用**views**，数组拷贝是计算昂贵的。\n",
    "\n",
    "在做到以上几点之后，代码依然很慢或者无法避免使用复杂的循环，可以使用额外的Cython来提速。\n",
    "\n",
    "# 6. 额外资源\n",
    "1. [Python优化技术](http://wiki.python.org/moin/PythonSpeed/PerformanceTips)  \n",
    "2. Scipy课程笔记 - [高级Numpy](http://scipy-lectures.github.io/advanced/advanced_numpy/index.html#advanced-numpy)  \n",
    "3. [用IPython测量性能](http://pynash.org/2013/03/06/timing-and-profiling.html)  "
   ]
  }
 ],
 "metadata": {
  "anaconda-cloud": {},
  "kernelspec": {
   "display_name": "Python [conda root]",
   "language": "python",
   "name": "conda-root-py"
  },
  "language_info": {
   "codemirror_mode": {
    "name": "ipython",
    "version": 3
   },
   "file_extension": ".py",
   "mimetype": "text/x-python",
   "name": "python",
   "nbconvert_exporter": "python",
   "pygments_lexer": "ipython3",
   "version": "3.5.2"
  }
 },
 "nbformat": 4,
 "nbformat_minor": 1
}
