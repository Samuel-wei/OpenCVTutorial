{
 "cells": [
  {
   "cell_type": "code",
   "execution_count": 1,
   "metadata": {
    "collapsed": true
   },
   "outputs": [],
   "source": [
    "import numpy as np\n",
    "import matplotlib.pyplot as plt\n",
    "import cv2\n",
    "%matplotlib inline"
   ]
  },
  {
   "cell_type": "markdown",
   "metadata": {},
   "source": [
    "# 目标\n",
    "- 计算等值线的不同特征，例如面积、周长、质心、外框等等。\n",
    "- 涉及大量的关于等值线的函数。\n",
    "\n",
    "# 1. 矩\n",
    "图像矩可用于计算类似目标质心、面积等特征。阅读维基的[图像矩](http://en.wikipedia.org/wiki/Image_moment)获得更多的信息。\n",
    "\n",
    "**cv2.moments()**函数返回计算的所有矩："
   ]
  },
  {
   "cell_type": "code",
   "execution_count": 2,
   "metadata": {
    "collapsed": false
   },
   "outputs": [
    {
     "data": {
      "text/plain": [
       "{'m00': 30843.0,\n",
       " 'm01': 4370726.5,\n",
       " 'm02': 690628700.3333333,\n",
       " 'm03': 118200537139.45001,\n",
       " 'm10': 4797297.333333333,\n",
       " 'm11': 680764175.8333333,\n",
       " 'm12': 107728635295.11667,\n",
       " 'm20': 848970161.1666666,\n",
       " 'm21': 120694710564.48334,\n",
       " 'm30': 163903172773.6,\n",
       " 'mu02': 71258012.07984793,\n",
       " 'mu03': 136544477.35873413,\n",
       " 'mu11': 944619.2668731213,\n",
       " 'mu12': 41037870.84436035,\n",
       " 'mu20': 102802093.71515071,\n",
       " 'mu21': 94262485.48997688,\n",
       " 'mu30': -124538873.32055664,\n",
       " 'nu02': 0.07490666722599933,\n",
       " 'nu03': 0.0008173020811635493,\n",
       " 'nu11': 0.0009929870201773854,\n",
       " 'nu12': 0.0002456367177670495,\n",
       " 'nu20': 0.10806591426418058,\n",
       " 'nu21': 0.0005642185393130366,\n",
       " 'nu30': -0.0007454412094839937}"
      ]
     },
     "execution_count": 2,
     "metadata": {},
     "output_type": "execute_result"
    }
   ],
   "source": [
    "img = cv2.imread('../data/star.png', cv2.IMREAD_GRAYSCALE)\n",
    "ret, thresh = cv2.threshold(img, 127, 255, 0)\n",
    "dst, contours, hierarchy = cv2.findContours(thresh, cv2.RETR_LIST, cv2.CHAIN_APPROX_SIMPLE)\n",
    "\n",
    "cnt = contours[0]\n",
    "M = cv2.moments(cnt)\n",
    "\n",
    "M"
   ]
  },
  {
   "cell_type": "markdown",
   "metadata": {},
   "source": [
    "通过这些矩，可以提取非常有用的数据，例如面积、中心。中心可以用公式$C_x=\\frac {M_{10}} {M_{00}}$和$C_y = \\frac {M_{01}} {M_{10}}$计算。例如："
   ]
  },
  {
   "cell_type": "code",
   "execution_count": 3,
   "metadata": {
    "collapsed": false
   },
   "outputs": [
    {
     "name": "stdout",
     "output_type": "stream",
     "text": [
      "155 141\n"
     ]
    }
   ],
   "source": [
    "cx = int(M['m10'] / M['m00'])\n",
    "cy = int(M['m01'] / M['m00'])\n",
    "print(cx, cy)"
   ]
  },
  {
   "cell_type": "markdown",
   "metadata": {},
   "source": [
    "# 2. 等值线区域面积\n",
    "等值线围起来的面积可以用**cv2.contourArea()**函数进行计算，或者直接用矩**M['m00']**获得："
   ]
  },
  {
   "cell_type": "code",
   "execution_count": 4,
   "metadata": {
    "collapsed": false
   },
   "outputs": [
    {
     "name": "stdout",
     "output_type": "stream",
     "text": [
      "30843.0\n"
     ]
    }
   ],
   "source": [
    "area = cv2.contourArea(cnt)\n",
    "print(area)"
   ]
  },
  {
   "cell_type": "markdown",
   "metadata": {},
   "source": [
    "# 3. 等值线的周长\n",
    "也被称为弧长，可以用**cv2.arcLength()**函数进行计算。第二个参数用于指定该等值线是一个闭合的区域（True）还是一条曲线（False）。"
   ]
  },
  {
   "cell_type": "code",
   "execution_count": 5,
   "metadata": {
    "collapsed": false
   },
   "outputs": [
    {
     "name": "stdout",
     "output_type": "stream",
     "text": [
      "1180.558434844017\n"
     ]
    }
   ],
   "source": [
    "perimeter = cv2.arcLength(cnt, True)\n",
    "print(perimeter)"
   ]
  },
  {
   "cell_type": "markdown",
   "metadata": {},
   "source": [
    "# 4. 等值线近似\n",
    "可以指定等值线近似参数，用数量更少的形状来近似等值线的形状，它是[Douglas-Peucker算法](http://en.wikipedia.org/wiki/Ramer-Douglas-Peucker_algorithm)的实现。查阅维基百科获得更多的算法和示例信息。\n",
    "\n",
    "假设想要在一个图像中找到一个方形，但是由于图像的一些问题，导致无法得到一个完美的方形，只能得到一个**bad shape**（如下图第一张图像所示）。现在可以使用**cv2.approxPolyDP()**函数近似形状，该函数的第二个参数**epsilon**表示从等值点到近似等值点的最大距离，是用来控制精度的参数。要获得正确的输出需要明智的选择它的值。![](./imgs/contours_02.jpg)"
   ]
  },
  {
   "cell_type": "code",
   "execution_count": 6,
   "metadata": {
    "collapsed": false
   },
   "outputs": [
    {
     "data": {
      "text/plain": [
       "(<matplotlib.axes._subplots.AxesSubplot at 0x1165efbe0>,\n",
       " <matplotlib.image.AxesImage at 0x11670cb00>,\n",
       " <matplotlib.text.Text at 0x1166abd68>)"
      ]
     },
     "execution_count": 6,
     "metadata": {},
     "output_type": "execute_result"
    },
    {
     "data": {
      "image/png": "[encoded data removed]",
      "text/plain": [
       "<matplotlib.figure.Figure at 0x10bc69278>"
      ]
     },
     "metadata": {},
     "output_type": "display_data"
    }
   ],
   "source": [
    "epsilon = 0.1 * cv2.arcLength(cnt, True)\n",
    "approx = cv2.approxPolyDP(cnt, epsilon, True)\n",
    "\n",
    "img = cv2.imread('../data/star.png', cv2.IMREAD_COLOR)\n",
    "dst_no_approx = cv2.drawContours(img.copy(), [cnt], 0, (0, 255, 0), 3)\n",
    "dst_approx = cv2.drawContours(img.copy(), [approx], 0, (0, 255, 0), 3)\n",
    "\n",
    "plt.subplot(131), plt.imshow(img[:, :, ::-1]), plt.title('Origin')\n",
    "plt.subplot(132), plt.imshow(dst_no_approx[:, :, ::-1]), plt.title('Before Approx')\n",
    "plt.subplot(133), plt.imshow(dst_approx[:, :, ::-1]), plt.title('After Approx')"
   ]
  },
  {
   "cell_type": "markdown",
   "metadata": {},
   "source": [
    "# 5. 凸包\n",
    "凸包看起来和等值线近似很接近，但是并不相同（只是在某些情况下提供了相同的结果）。**cv2.convexHull()**可以检测曲线凸缺陷的位置并进行修正。一般来说，凸曲线总是会对曲线进行膨胀。如果曲线是向内凸的，被称为凸缺。例如，在下面的图片中，红色的线显示了手的红色凸包，双箭头表示了凸缺（凸包与等值线差异的局部最大值）。![](./imgs/contours_03.jpg)\n",
    "\n",
    "凸包函数的格式为：\n",
    "``` Python\n",
    "hull = cv2.convexHull(points[, hull[, clockwise[, returnPoints]]\n",
    "```\n",
    "其中的参数表示：\n",
    "- **points** - 等值线上所有的点。\n",
    "- **hull** - 输出，通常避免使用。\n",
    "- **clockwise** - 朝向标志，如果置为**True**，输出的凸包中的点是按顺时针排列的，若置为**False**，则按逆时针排列。\n",
    "- **returnPoints** - 默认情况下为**True**，此时返回凸点的坐标。若置为**False**，则返回等值点中凸点的索引。\n",
    "\n",
    "因此要获得上面图像的凸包，下面的调用就足够了："
   ]
  },
  {
   "cell_type": "code",
   "execution_count": 9,
   "metadata": {
    "collapsed": false
   },
   "outputs": [
    {
     "name": "stdout",
     "output_type": "stream",
     "text": [
      "[[[254 228]]\n",
      "\n",
      " [[ 55 228]]\n",
      "\n",
      " [[ 55  58]]\n",
      "\n",
      " [[254  58]]]\n"
     ]
    }
   ],
   "source": [
    "hull = cv2.convexHull(cnt)\n",
    "print(hull)"
   ]
  },
  {
   "cell_type": "markdown",
   "metadata": {},
   "source": [
    "但是若需要计算凸缺，需要令**returnPoints=False**。以上面矩形的图片为例，首先找到它的等值点**cnt**，然后调用**returnPoints=True**的凸包运算，会得到[[[254, 228]], [[55, 228]], [[55, 58]], [[254, 58]]]四个矩形的顶点。若将**returnPoints**设为Flase，则会得到返回的索引值[[129],[68], [0],[142]]，这就是凸点的索引值。例如输出凸包的第一个点：cnt[129] = [[254, 228]]，与上面的结果一致。\n",
    "\n",
    "在讨论凸缺的时候会再次看到它。"
   ]
  },
  {
   "cell_type": "code",
   "execution_count": 12,
   "metadata": {
    "collapsed": false
   },
   "outputs": [
    {
     "name": "stdout",
     "output_type": "stream",
     "text": [
      "[[129]\n",
      " [ 68]\n",
      " [  0]\n",
      " [167]]\n",
      "[[254 228]]\n"
     ]
    }
   ],
   "source": [
    "hull = cv2.convexHull(cnt, returnPoints=False)\n",
    "print(hull)\n",
    "print(cnt[129])"
   ]
  },
  {
   "cell_type": "markdown",
   "metadata": {},
   "source": [
    "# 6. 检查凸性\n",
    "函数**cv2.isContourConvex()**用于检查一个曲线的凸性。"
   ]
  },
  {
   "cell_type": "code",
   "execution_count": 13,
   "metadata": {
    "collapsed": false
   },
   "outputs": [
    {
     "name": "stdout",
     "output_type": "stream",
     "text": [
      "False\n"
     ]
    }
   ],
   "source": [
    "k = cv2.isContourConvex(cnt)\n",
    "print(k)"
   ]
  },
  {
   "cell_type": "markdown",
   "metadata": {},
   "source": [
    "# 7. 矩形边框\n",
    "有两种不同的矩形边界。\n",
    "## 7.1 标准矩形边框\n",
    "标准的矩形边框不考虑目标的旋转，因此矩形的边框不是最小的。可以用函数**cv2.boundingRect()**函数来获得该边框。\n",
    "\n",
    "令$(x,y)$是矩形左上角的坐标，$(w,h)$是宽度和高度。"
   ]
  },
  {
   "cell_type": "code",
   "execution_count": 30,
   "metadata": {
    "collapsed": false,
    "scrolled": true
   },
   "outputs": [
    {
     "data": {
      "text/plain": [
       "<matplotlib.image.AxesImage at 0x11b39d320>"
      ]
     },
     "execution_count": 30,
     "metadata": {},
     "output_type": "execute_result"
    },
    {
     "data": {
      "image/png": "[encoded data removed]",
      "text/plain": [
       "<matplotlib.figure.Figure at 0x11a79a3c8>"
      ]
     },
     "metadata": {},
     "output_type": "display_data"
    }
   ],
   "source": [
    "img = cv2.imread('../data/leaf.png', cv2.IMREAD_COLOR)\n",
    "_, thresh = cv2.threshold(cv2.cvtColor(img, cv2.COLOR_BGR2GRAY), 127, 255, cv2.THRESH_BINARY)\n",
    "_, contours, hierarchy = cv2.findContours(thresh.copy(), 1, 2)\n",
    "cnt = contours[0]\n",
    "\n",
    "x, y, w, h = cv2.boundingRect(cnt)\n",
    "img = cv2.rectangle(img, (x, y), (x + w, y + h), (0, 255, 0), 2)\n",
    "\n",
    "plt.imshow(img[:, :, ::-1])"
   ]
  },
  {
   "cell_type": "markdown",
   "metadata": {},
   "source": [
    "## 7.b 带旋转的矩形边框\n",
    "这种边框将具有最小的面积，因此需要将边框进行旋转。函数**cv2.minAreaRect()**用于计算这种边框，该函数返回一个**Box2D**结构，该结构包含：(center(x, y), (width, height), angle)。为了绘制矩形需要矩形的四个顶点。可以用**cv2.boxPoints()**获得这些点。"
   ]
  },
  {
   "cell_type": "code",
   "execution_count": 39,
   "metadata": {
    "collapsed": false
   },
   "outputs": [
    {
     "data": {
      "text/plain": [
       "<matplotlib.image.AxesImage at 0x11bacacf8>"
      ]
     },
     "execution_count": 39,
     "metadata": {},
     "output_type": "execute_result"
    },
    {
     "data": {
      "image/png": "[encoded data removed]",
      "text/plain": [
       "<matplotlib.figure.Figure at 0x11b7eb0f0>"
      ]
     },
     "metadata": {},
     "output_type": "display_data"
    }
   ],
   "source": [
    "rect = cv2.minAreaRect(cnt)\n",
    "box = cv2.boxPoints(rect)\n",
    "box = np.int0(box)\n",
    "cv2.drawContours(img, [box], 0, (0, 0, 255), 2)\n",
    "\n",
    "# 红色边框是旋转的矩形，绿色边框是标准矩形\n",
    "plt.imshow(img[:, :, ::-1])"
   ]
  },
  {
   "cell_type": "markdown",
   "metadata": {},
   "source": [
    "# 8. 最小闭合圆形框\n",
    "可以用**cv2.minEnclosing()**计算最小外接圆，该函数的返回值为$((center(x,y), radius)$。"
   ]
  },
  {
   "cell_type": "code",
   "execution_count": 40,
   "metadata": {
    "collapsed": false,
    "scrolled": true
   },
   "outputs": [
    {
     "data": {
      "text/plain": [
       "<matplotlib.image.AxesImage at 0x11bd3b1d0>"
      ]
     },
     "execution_count": 40,
     "metadata": {},
     "output_type": "execute_result"
    },
    {
     "data": {
      "image/png": "[encoded data removed]",
      "text/plain": [
       "<matplotlib.figure.Figure at 0x11a250358>"
      ]
     },
     "metadata": {},
     "output_type": "display_data"
    }
   ],
   "source": [
    "img = cv2.imread('../data/leaf.png', cv2.IMREAD_COLOR)\n",
    "_, thresh = cv2.threshold(cv2.cvtColor(img, cv2.COLOR_BGR2GRAY), 127, 255, cv2.THRESH_BINARY)\n",
    "_, contours, hierarchy = cv2.findContours(thresh.copy(), 1, 2)\n",
    "cnt = contours[0]\n",
    "\n",
    "(x, y), radius = cv2.minEnclosingCircle(cnt)\n",
    "center = (int(x), int(y))\n",
    "radius = int(radius)\n",
    "cv2.circle(img, center, radius, (0, 255, 0), 2)\n",
    "\n",
    "plt.imshow(img[:, :, ::-1])"
   ]
  },
  {
   "cell_type": "markdown",
   "metadata": {},
   "source": [
    "# 9. 拟合椭圆\n",
    "可以用**cv2.fitEllipse()**函数计算等值点集拟合的椭圆，该函数的返回值包含了椭圆的信息。"
   ]
  },
  {
   "cell_type": "code",
   "execution_count": 43,
   "metadata": {
    "collapsed": false,
    "scrolled": true
   },
   "outputs": [
    {
     "data": {
      "text/plain": [
       "<matplotlib.image.AxesImage at 0x11c5db908>"
      ]
     },
     "execution_count": 43,
     "metadata": {},
     "output_type": "execute_result"
    },
    {
     "data": {
      "image/png": "[encoded data removed]",
      "text/plain": [
       "<matplotlib.figure.Figure at 0x11a4294a8>"
      ]
     },
     "metadata": {},
     "output_type": "display_data"
    }
   ],
   "source": [
    "img = cv2.imread('../data/leaf.png', cv2.IMREAD_COLOR)\n",
    "_, thresh = cv2.threshold(cv2.cvtColor(img, cv2.COLOR_BGR2GRAY), 127, 255, cv2.THRESH_BINARY)\n",
    "_, contours, hierarchy = cv2.findContours(thresh.copy(), 1, 2)\n",
    "cnt = contours[0]\n",
    "\n",
    "ellipse = cv2.fitEllipse(cnt)\n",
    "cv2.ellipse(img, ellipse, (0, 255, 0), 2)\n",
    "\n",
    "plt.imshow(img[:, :, ::-1])"
   ]
  },
  {
   "cell_type": "markdown",
   "metadata": {},
   "source": [
    "# 10. 拟合直线\n",
    "用**cv2.fitLine()**可以计算等值点集拟合的直线。"
   ]
  },
  {
   "cell_type": "code",
   "execution_count": 51,
   "metadata": {
    "collapsed": false
   },
   "outputs": [
    {
     "data": {
      "text/plain": [
       "<matplotlib.image.AxesImage at 0x11c9dbda0>"
      ]
     },
     "execution_count": 51,
     "metadata": {},
     "output_type": "execute_result"
    },
    {
     "data": {
      "image/png": "[encoded data removed]",
      "text/plain": [
       "<matplotlib.figure.Figure at 0x11c81a860>"
      ]
     },
     "metadata": {},
     "output_type": "display_data"
    }
   ],
   "source": [
    "img = cv2.imread('../data/leaf.png', cv2.IMREAD_COLOR)\n",
    "_, thresh = cv2.threshold(cv2.cvtColor(img, cv2.COLOR_BGR2GRAY), 127, 255, cv2.THRESH_BINARY)\n",
    "_, contours, hierarchy = cv2.findContours(thresh.copy(), 1, 2)\n",
    "cnt = contours[0]\n",
    "\n",
    "rows, cols = img.shape[:2]\n",
    "[vx, vy, x, y] = cv2.fitLine(cnt, cv2.DIST_L2, 0, 0.01, 0.01)\n",
    "lefty  = int(((0 - x) * vy / vx) + y)\n",
    "righty = int(((cols - x) * vy / vx) + y)\n",
    "cv2.line(img, (cols-1, righty), (0, lefty), (0, 255, 0), 2)\n",
    "\n",
    "plt.imshow(img[:, :, ::-1])"
   ]
  }
 ],
 "metadata": {
  "anaconda-cloud": {},
  "kernelspec": {
   "display_name": "Python [conda root]",
   "language": "python",
   "name": "conda-root-py"
  },
  "language_info": {
   "codemirror_mode": {
    "name": "ipython",
    "version": 3
   },
   "file_extension": ".py",
   "mimetype": "text/x-python",
   "name": "python",
   "nbconvert_exporter": "python",
   "pygments_lexer": "ipython3",
   "version": "3.5.2"
  }
 },
 "nbformat": 4,
 "nbformat_minor": 1
}
