{
 "cells": [
  {
   "cell_type": "code",
   "execution_count": 12,
   "metadata": {
    "collapsed": false
   },
   "outputs": [
    {
     "data": {
      "text/plain": [
       "<matplotlib.image.AxesImage at 0x119794278>"
      ]
     },
     "execution_count": 12,
     "metadata": {},
     "output_type": "execute_result"
    },
    {
     "data": {
      "image/png": "[encoded data removed]",
      "text/plain": [
       "<matplotlib.figure.Figure at 0x1190bf0f0>"
      ]
     },
     "metadata": {},
     "output_type": "display_data"
    }
   ],
   "source": [
    "import numpy as np\n",
    "import matplotlib.pyplot as plt\n",
    "import cv2\n",
    "%matplotlib inline\n",
    "\n",
    "img = cv2.imread('../data/leaf.png', cv2.IMREAD_GRAYSCALE)\n",
    "_, thresh = cv2.threshold(img, 127, 255, cv2.THRESH_BINARY)\n",
    "_, contours, hierarchy = cv2.findContours(thresh, cv2.RETR_LIST, cv2.CHAIN_APPROX_SIMPLE)\n",
    "cnt = contours[0]\n",
    "\n",
    "plt.imshow(img, 'gray')"
   ]
  },
  {
   "cell_type": "markdown",
   "metadata": {},
   "source": [
    "# 目标\n",
    "- 本教程主要学习如何获得最常用的目标属性，例如**Solidity**、**Equivalent Diameter**、**Mask Image**、**Mean Intensity**等。\n",
    "- 更多的特征可以在[Matlab区域属性文档](http://www.mathworks.in/help/images/ref/regionprops.html)中获得更多细节。\n",
    "\n",
    "# 1. Aspect Ratio\n",
    "纵横比是矩形边框的宽度与高度的比值：\n",
    "$$Aspect \\ Ratio = \\frac {Width} {Height}$$"
   ]
  },
  {
   "cell_type": "code",
   "execution_count": 8,
   "metadata": {
    "collapsed": false
   },
   "outputs": [
    {
     "name": "stdout",
     "output_type": "stream",
     "text": [
      "0.6432432432432432\n"
     ]
    }
   ],
   "source": [
    "x, y, w, h = cv2.boundingRect(cnt)\n",
    "aspect_ratio = float(w) / h\n",
    "print(aspect_ratio)"
   ]
  },
  {
   "cell_type": "markdown",
   "metadata": {},
   "source": [
    "# 2. Extent\n",
    "Extend是等高线内的面积与矩形边框内面积的比值：\n",
    "$$Extend = \\frac {Object \\ Area} {Bounding \\ Rectangle \\ Area}$$"
   ]
  },
  {
   "cell_type": "code",
   "execution_count": 9,
   "metadata": {
    "collapsed": false
   },
   "outputs": [
    {
     "name": "stdout",
     "output_type": "stream",
     "text": [
      "0.4241880535998183\n"
     ]
    }
   ],
   "source": [
    "area = cv2.contourArea(cnt)\n",
    "x, y, w, h = cv2.boundingRect(cnt)\n",
    "rect_area = w * h\n",
    "extent = float(area) / rect_area\n",
    "print(extent)"
   ]
  },
  {
   "cell_type": "markdown",
   "metadata": {},
   "source": [
    "# 3. Solidity\n",
    "Solidity的值为等值线内的面积与其凸包面积的比值：\n",
    "$$Solidity = \\frac {Contour \\ Area} {Convex \\ Hull \\ Area}$$"
   ]
  },
  {
   "cell_type": "code",
   "execution_count": 13,
   "metadata": {
    "collapsed": false
   },
   "outputs": [
    {
     "name": "stdout",
     "output_type": "stream",
     "text": [
      "0.6799796118979139\n"
     ]
    }
   ],
   "source": [
    "area = cv2.contourArea(cnt)\n",
    "hull = cv2.convexHull(cnt)\n",
    "area_hull = cv2.contourArea(hull)\n",
    "solidity = float(area) / area_hull\n",
    "print(solidity)"
   ]
  },
  {
   "cell_type": "markdown",
   "metadata": {},
   "source": [
    "# 4. Equivalent Diameter\n",
    "该特征是与等值线内面积相同的圆的直径，用以下公式计算：\n",
    "$$Equivalent \\ Diameter = \\sqrt {\\frac {4 \\times Contour \\ Area} {\\pi}}$$"
   ]
  },
  {
   "cell_type": "code",
   "execution_count": 14,
   "metadata": {
    "collapsed": false
   },
   "outputs": [
    {
     "name": "stdout",
     "output_type": "stream",
     "text": [
      "109.04195288286668\n"
     ]
    }
   ],
   "source": [
    "area = cv2.contourArea(cnt)\n",
    "equi_diameter = np.sqrt(4 * area / np.pi)\n",
    "print(equi_diameter)"
   ]
  },
  {
   "cell_type": "markdown",
   "metadata": {},
   "source": [
    "# 5. Orientation\n",
    "目标朝向的角度可以用下面的方法获得，同时还可以得到主轴和丛轴的长度："
   ]
  },
  {
   "cell_type": "code",
   "execution_count": 19,
   "metadata": {
    "collapsed": false
   },
   "outputs": [
    {
     "name": "stdout",
     "output_type": "stream",
     "text": [
      "center：  (197.48626708984375, 208.43359375)\n",
      "Length of Minor Axis: 87.46887969970703\n",
      "Length of Major Axis: 167.18820190429688\n",
      "Orientation Angle: 150.87420654296875\n"
     ]
    }
   ],
   "source": [
    "(x, y), (MA, ma), angle = cv2.fitEllipse(cnt)\n",
    "print('center： ', (x, y))\n",
    "print('Length of Minor Axis:', MA)\n",
    "print('Length of Major Axis:', ma)\n",
    "print('Orientation Angle:', angle)"
   ]
  },
  {
   "cell_type": "markdown",
   "metadata": {},
   "source": [
    "# 6. Mask and Pixel Point\n",
    "有的时候需要组成目标的所有像素点坐标，可以用下面的方式实现："
   ]
  },
  {
   "cell_type": "code",
   "execution_count": 36,
   "metadata": {
    "collapsed": false
   },
   "outputs": [
    {
     "name": "stdout",
     "output_type": "stream",
     "text": [
      "(9592, 2)\n",
      "(9592, 1, 2)\n",
      "(9592, 2)\n"
     ]
    }
   ],
   "source": [
    "mask = np.zeros(img.shape, np.uint8)\n",
    "cv2.drawContours(mask, [cnt], 0, 255, -1)\n",
    "pixelpoints1 = np.transpose(np.nonzero(mask))\n",
    "pixelpoints2 = cv2.findNonZero(mask)\n",
    "print(pixelpoints1.shape)\n",
    "print(pixelpoints2.shape)\n",
    "print(np.squeeze(pixelpoints2).shape)"
   ]
  },
  {
   "cell_type": "markdown",
   "metadata": {},
   "source": [
    "这两种方法，一种使用了Numpy的函数，一种使用了OpenCV的函数，结果是相同的（用OpenCV的方法中间多了一个维度，可以用np.squeeze函数去掉）。此外Numpy返回的是$(row, column)$格式，而OpenCV返回的是$(x, y)$格式。因此需要交换坐标，注意：**row = y, column = x**。\n",
    "\n",
    "# 7. 最大值、最小值及其位置\n",
    "可以利用Mask图像来获得最大最小值及其位置："
   ]
  },
  {
   "cell_type": "code",
   "execution_count": 38,
   "metadata": {
    "collapsed": false
   },
   "outputs": [
    {
     "data": {
      "text/plain": [
       "(129.0, 255.0, (140, 182), (150, 124))"
      ]
     },
     "execution_count": 38,
     "metadata": {},
     "output_type": "execute_result"
    }
   ],
   "source": [
    "cv2.minMaxLoc(img, mask)"
   ]
  },
  {
   "cell_type": "markdown",
   "metadata": {},
   "source": [
    "# 8. 平均颜色与平均亮度\n",
    "可以用Mask图像来获得各个通道的亮度均值。"
   ]
  },
  {
   "cell_type": "code",
   "execution_count": 42,
   "metadata": {
    "collapsed": false
   },
   "outputs": [
    {
     "data": {
      "text/plain": [
       "(253.14168056713928, 0.0, 0.0, 0.0)"
      ]
     },
     "execution_count": 42,
     "metadata": {},
     "output_type": "execute_result"
    }
   ],
   "source": [
    "cv2.mean(img, mask=mask)"
   ]
  },
  {
   "cell_type": "markdown",
   "metadata": {},
   "source": [
    "# 9. 极值点\n",
    "极值点意味着目标最顶部、最底部、最左侧和最右侧的点："
   ]
  },
  {
   "cell_type": "code",
   "execution_count": 48,
   "metadata": {
    "collapsed": false
   },
   "outputs": [
    {
     "data": {
      "text/plain": [
       "<matplotlib.image.AxesImage at 0x11aea5cc0>"
      ]
     },
     "execution_count": 48,
     "metadata": {},
     "output_type": "execute_result"
    },
    {
     "data": {
      "image/png": "[encoded data removed]",
      "text/plain": [
       "<matplotlib.figure.Figure at 0x11ad0ff28>"
      ]
     },
     "metadata": {},
     "output_type": "display_data"
    }
   ],
   "source": [
    "color_img = cv2.imread('../data/leaf.png', cv2.IMREAD_COLOR)\n",
    "leftmost = tuple(cnt[cnt[:,:,0].argmin()][0])\n",
    "rightmost = tuple(cnt[cnt[:,:,0].argmax()][0])\n",
    "topmost = tuple(cnt[cnt[:,:,1].argmin()][0])\n",
    "bottommost = tuple(cnt[cnt[:,:,1].argmax()][0])\n",
    "\n",
    "cv2.circle(color_img, (leftmost), 3, (0, 0, 255), -1)\n",
    "cv2.circle(color_img, (rightmost), 3, (0, 0, 255), -1)\n",
    "cv2.circle(color_img, (topmost), 3, (0, 0, 255), -1)\n",
    "cv2.circle(color_img, (bottommost), 3, (0, 0, 255), -1)\n",
    "\n",
    "plt.imshow(color_img[:, :, ::-1])"
   ]
  }
 ],
 "metadata": {
  "anaconda-cloud": {},
  "kernelspec": {
   "display_name": "Python [conda root]",
   "language": "python",
   "name": "conda-root-py"
  },
  "language_info": {
   "codemirror_mode": {
    "name": "ipython",
    "version": 3
   },
   "file_extension": ".py",
   "mimetype": "text/x-python",
   "name": "python",
   "nbconvert_exporter": "python",
   "pygments_lexer": "ipython3",
   "version": "3.5.2"
  }
 },
 "nbformat": 4,
 "nbformat_minor": 1
}
