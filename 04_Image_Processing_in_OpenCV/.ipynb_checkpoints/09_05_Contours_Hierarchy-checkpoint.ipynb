{
 "cells": [
  {
   "cell_type": "code",
   "execution_count": 3,
   "metadata": {
    "collapsed": true
   },
   "outputs": [],
   "source": [
    "from __future__ import print_function\n",
    "from __future__ import division\n",
    "import numpy as np\n",
    "import matplotlib.pyplot as plt\n",
    "import cv2\n",
    "%matplotlib inline"
   ]
  },
  {
   "cell_type": "markdown",
   "metadata": {},
   "source": [
    "# 目标\n",
    "- 学习等值线的层级结构，例如等值线的父子关系。\n",
    "\n",
    "# 1. 理论\n",
    "在之前的几个教程里，我们已经介绍了一些OpenCV提供的与等值线相关的函数。但是当使用**cv2.findContours()**函数时，需要传递一个**Contour Retrieval Mode**参数。通常会将其设置为**cv2.RETR_LIST**或**cv2.RETR_TREE**。那么这些值真正的含义是什么呢？\n",
    "\n",
    "**cv2.findContours()**函数返回三个值，第一个是图像，第二个是等值线，第三个**hierarchy**是层级结构。但在之前的教程中从未用过这个返回值。那么层级结构到底是什么？与之前提到的参数又有什么样的关系？\n",
    "\n",
    "这是本教程关注的内容。\n",
    "\n",
    "## 1.1 什么是层级结构？\n",
    "通常使用**cv2.findContours()**来检测图像中的目标。有时，目标位于不同的位置。但是有些情况下，一些目标形状会位于其他目标形状之中。在这种情况下，称外面的形状为**父形状**，里面的称为**子形状**。因此，图像中的等值线之间存在着一些关系。我们可以指定一个等值线与另一个等值线之间有什么样的关系，比如，某个等值线所表示的形状是其他形状的子形状或父形状。\n",
    "\n",
    "考虑下面的示例图像：\n",
    "![](./imgs/hierarchy.png)\n",
    "\n",
    "在这幅图像中，共有6个形状（编号为0-5）。其中2和2a表示盒装形状的外部等值线和内部等值线。\n",
    "\n",
    "在这里，0、1和2是**external**或**outermost**，也可以说他们是第0层（**hierarchy-0**），简单地说它们在同一个层级上。\n",
    "\n",
    "接下来是**等值线-2a**，它被称为**等值线-2**的子等值线（或者反过来说**等值线-2**是**等值线-2a**的父等值线。令**等值线-2a**位于第1层（**hierarchy-1**）。类似的**等值线-3**是**等值线-2**的子等值线，位于第2层（**hierarchy-2**）。最后**等值线-4**和**等值线-5**是**等值线-3a**，它们位于最后一层。由上图的编号，可以说**等值线-4**是**等值线-3a**的第一个子等值线（当然也可以是**等值线-5**）。\n",
    "\n",
    "上面的例子是为了阐明以下概念：**相同层级**、**最外部的等值线**、**子等值线**、**父等值线**、**第一个子等值线**。现在介绍OpenCV中的表示。\n",
    "\n",
    "## 1.2 OpenCV中层级结构的表示\n",
    "每一个等值线都包含了关于自己的层级信息，包括谁是它的子等值线、谁是它的父等值线等等。OpenCV用一个包含四个值的数组来表示层级信息：**[Next, Previous, First_Child, Parent]**。\n",
    "\n",
    "1. **Next表示了同一层级中下一个等值线：**  \n",
    "以**等值线-0**为例，在同一层级中，它的下一个等值线是**等值线-1**，直接把**Next**置为1。**等值线-1**与之类似，直接把**Next**置为2.\n",
    "而对于**等值线-2**，它在同级中没有下一个等值线，此时把**Next**设置为-1。对于**等值线-4**，它的下一个同层等值线是**等值线-5**，因此**Next**设置为5。\n",
    "\n",
    "2. **Previous表示了同一层级中上一个等值线：**\n",
    "与Next类似，**等值线-1**的上一个同层等值线是**等值线-0**，因此设置**Previous**为0。类似的**等值线-2**的**Previous**设置为1，而**等值线-0**在同层中没有上一个等值线，因此**Previous**设置为-1。\n",
    "\n",
    "3. **First_Child表示等值线的第一个子等值线：**\n",
    "无须解释，对于**等值线-2**，它的第一个子等值线是**等值线-2a**，因此**First_Child**设置为**等值线-2a**对应的索引。而**等值线-3a**包含两个子等值线，将第一个子等值线设置为其**First_Child**，由于它的第一个子等值线是**等值线-4**，因此它的**First_Child**被设置为**等值线-4**的索引。\n",
    "\n",
    "4. **Parent表示父等值线的索引**  \n",
    "与**First_Child**相反。由于**等值线-4**和**等值线-5**的父等值线都是**等值线-3a**，因此它们的**Parent**都被设置为**等值线-3a**的索引。以此类推，**等值线-3a**的**Parent**设置为**等值线-3**的索引。\n",
    "\n",
    "> **注意**  \n",
    "> 如果没有子等值线或父等值线，对应的值设置为-1。\n",
    "\n",
    "在理解OpenCV的等值线层级架构之后，接下来利用上面的图像，来查看**cv2.RETR_LIST**、**cv2.RETR_TREE**、**cv2.RETR_CCOMP**和**cv2.RETR_EXTERNAL**的含义。\n",
    "\n",
    "# 2. 等值线提取模式"
   ]
  },
  {
   "cell_type": "code",
   "execution_count": 5,
   "metadata": {
    "collapsed": false,
    "scrolled": true
   },
   "outputs": [
    {
     "data": {
      "text/plain": [
       "<matplotlib.image.AxesImage at 0x118d1a898>"
      ]
     },
     "execution_count": 5,
     "metadata": {},
     "output_type": "execute_result"
    },
    {
     "data": {
      "image/png": "[encoded data removed]",
      "text/plain": [
       "<matplotlib.figure.Figure at 0x107f8ada0>"
      ]
     },
     "metadata": {},
     "output_type": "display_data"
    }
   ],
   "source": [
    "img = cv2.imread('../data/hierarchy.jpg', cv2.IMREAD_GRAYSCALE)\n",
    "_, thresh = cv2.threshold(img, 127, 255, cv2.THRESH_BINARY)\n",
    "plt.imshow(thresh, 'gray')"
   ]
  },
  {
   "cell_type": "markdown",
   "metadata": {},
   "source": [
    "## 2.1 RETR_LIST\n",
    "从解释的观点，这是是最简单的一种模式。只是简单的提取所有的等值线，但是并不创建父子关系。在这种模式下，所有的等值线都是平等的，同属于同一个层级。\n",
    "\n",
    "因此第三列和第四列全为-1。很显然**Next**和**Previous**有对应的值。\n",
    "\n",
    "下面的结果中，第一行对应**等值线-0**，它的下一条等值线的索引是1，因此**Next**值为1。由于它没有明显的上一个等值线，因此**Previous**设置为-1。\n",
    "\n",
    "如果不需要使用等值线的层级结构，这是最好的选择。"
   ]
  },
  {
   "cell_type": "code",
   "execution_count": 7,
   "metadata": {
    "collapsed": false
   },
   "outputs": [
    {
     "data": {
      "text/plain": [
       "array([[[ 1, -1, -1, -1],\n",
       "        [ 2,  0, -1, -1],\n",
       "        [ 3,  1, -1, -1],\n",
       "        [ 4,  2, -1, -1],\n",
       "        [ 5,  3, -1, -1],\n",
       "        [ 6,  4, -1, -1],\n",
       "        [ 7,  5, -1, -1],\n",
       "        [-1,  6, -1, -1]]], dtype=int32)"
      ]
     },
     "execution_count": 7,
     "metadata": {},
     "output_type": "execute_result"
    }
   ],
   "source": [
    "_, contours, hierarchy = cv2.findContours(thresh.copy(), \\\n",
    "                                          cv2.RETR_LIST,\n",
    "                                          cv2.CHAIN_APPROX_SIMPLE)\n",
    "hierarchy"
   ]
  },
  {
   "cell_type": "markdown",
   "metadata": {},
   "source": [
    "## 2.2 RETR_EXTERNAL\n",
    "如果使用了这个标志，就只返回最外侧的等值线，所有的子等值线被隐藏。**也就是在这个规则下，只有每个家族最年长的成员被保留，而不在乎其他的家庭成员。**\n",
    "\n",
    "在示例图像中，最外面的等值线只有0、1、2位于**层级0**，因此只保留这三条等值线。\n",
    "\n",
    "在只需要最外面等值线的情况下，可以使用这个标志。"
   ]
  },
  {
   "cell_type": "code",
   "execution_count": 9,
   "metadata": {
    "collapsed": false
   },
   "outputs": [
    {
     "data": {
      "text/plain": [
       "array([[[ 1, -1, -1, -1],\n",
       "        [ 2,  0, -1, -1],\n",
       "        [-1,  1, -1, -1]]], dtype=int32)"
      ]
     },
     "execution_count": 9,
     "metadata": {},
     "output_type": "execute_result"
    }
   ],
   "source": [
    "_, contours, hierarchy = cv2.findContours(thresh.copy(), \\\n",
    "                                          cv2.RETR_EXTERNAL, \\\n",
    "                                          cv2.CHAIN_APPROX_SIMPLE)\n",
    "hierarchy"
   ]
  },
  {
   "cell_type": "code",
   "execution_count": 13,
   "metadata": {
    "collapsed": false
   },
   "outputs": [
    {
     "data": {
      "text/plain": [
       "<matplotlib.image.AxesImage at 0x118ff8128>"
      ]
     },
     "execution_count": 13,
     "metadata": {},
     "output_type": "execute_result"
    },
    {
     "data": {
      "image/png": "[encoded data removed]",
      "text/plain": [
       "<matplotlib.figure.Figure at 0x10736f860>"
      ]
     },
     "metadata": {},
     "output_type": "display_data"
    }
   ],
   "source": [
    "# 下面的例子中将使用另外一幅图像\n",
    "img = cv2.imread('../data/hierarchy_2.jpg', cv2.IMREAD_GRAYSCALE)\n",
    "_, thresh = cv2.threshold(img, 127, 255, cv2.THRESH_BINARY)\n",
    "plt.imshow(thresh, 'gray')"
   ]
  },
  {
   "cell_type": "markdown",
   "metadata": {},
   "source": [
    "## 2.3 RETR_CCOMP\n",
    "该标志提取所有的等值线，并将它们整理到两个层级中：物体外部的等值线和物体内部的等值线。物体的外边缘被放入**Hierarchy-1**层，物体内的空洞被放入**Hierarchy-2**层中。\n",
    "\n",
    "想象黑色背景上一个白色的**0**，它外部的圆被放入**Hierarchy-1**层中，而内部的圆被放入**Hierarchy-2**中。\n",
    "\n",
    "如下图所示，用红色字标注等值线的编号，用绿色的字标注其所属的层级，标注的顺序与OpenCV一致：![](./imgs/ccomp_hierarchy.png)\n",
    "\n",
    "**等值线-0**属于**层级-1**，它有两个洞（**等值线-1**和**等值线-2**），因此这两个等值线都属于**层级-2**。**等值线-0**的下一个同层等值线为**等值线-3**，没有前一个等值线，第一个子等值线是位于**层级-2**的**等值线-1**，另外由于属于**层级-1**而没有父等值线。因此它的层级数组为：**[3, -1, 1, -1]**。\n",
    "\n",
    "现在考虑**等值线-1**，它位于**层级-2**，下一个同层级等值线为**等值线-2**，没有前一个等值线，没有子等值线，但是其父等值线为**等值线-0**，因此数组为：**[2, -1, -1, 0]**。\n",
    "\n",
    "**等值线-2**：属于**层级-2**，在**等值线-0**的孩子中，没有下一个等值线；因此**Next**为-1，而**Previous**为1，没有子等值线，父等值线为0，因此数组为：**[-1, 1, -1, 0]**。\n",
    "\n",
    "**等值线-3**：属于**层级-1**，下一个等值线为**等值线-5**，上一个等值线为**等值线-0**，子等值线为**等值线-4**，没有父等值线。因此数组为：**[5, 0, 4, -1]**。\n",
    "\n",
    "**等值线-4**：属于**层级-2**，在**等值线-3**之下没有兄弟节点，没有子等值线，父等值线为**等值线-3**，因此层级数组为：**[-1, -1, -1, 3]。"
   ]
  },
  {
   "cell_type": "code",
   "execution_count": 14,
   "metadata": {
    "collapsed": false
   },
   "outputs": [
    {
     "data": {
      "text/plain": [
       "array([[[ 3, -1,  1, -1],\n",
       "        [ 2, -1, -1,  0],\n",
       "        [-1,  1, -1,  0],\n",
       "        [ 5,  0,  4, -1],\n",
       "        [-1, -1, -1,  3],\n",
       "        [ 7,  3,  6, -1],\n",
       "        [-1, -1, -1,  5],\n",
       "        [ 8,  5, -1, -1],\n",
       "        [-1,  7, -1, -1]]], dtype=int32)"
      ]
     },
     "execution_count": 14,
     "metadata": {},
     "output_type": "execute_result"
    }
   ],
   "source": [
    "_, contours, hierarchy = cv2.findContours(thresh.copy(), \\\n",
    "                                          cv2.RETR_CCOMP, \\\n",
    "                                          cv2.CHAIN_APPROX_SIMPLE)\n",
    "hierarchy                                          "
   ]
  },
  {
   "cell_type": "markdown",
   "metadata": {},
   "source": [
    "## 2.4 RETR_TREE\n",
    "该模式提取所有的等值线和完整的家族关系。以下图为例，红色编号是等值线的索引，绿色编号是其层级：![](./imgs/tree_hierarchy.png)\n",
    "\n",
    "以**等值线-0**为例，它属于**层级-0**，下一个等值线是**等值线-7**，没有上一等值线，子等值线是**等值线-1**，没有父等值线，因此层级数组为：**[7, -1, 1, -1]**。\n",
    "\n",
    "对于**等值线-1**：位于**层级-1**，同层没有其他等值线，子等值线为**等值线-1**，父等值线是**等值线-0**，因此层级数组为：**[-1, -1, 2, 0]**。\n",
    "\n",
    "完整层级数组如下所示："
   ]
  },
  {
   "cell_type": "code",
   "execution_count": 16,
   "metadata": {
    "collapsed": false
   },
   "outputs": [
    {
     "data": {
      "text/plain": [
       "array([[[ 7, -1,  1, -1],\n",
       "        [-1, -1,  2,  0],\n",
       "        [-1, -1,  3,  1],\n",
       "        [-1, -1,  4,  2],\n",
       "        [-1, -1,  5,  3],\n",
       "        [ 6, -1, -1,  4],\n",
       "        [-1,  5, -1,  4],\n",
       "        [ 8,  0, -1, -1],\n",
       "        [-1,  7, -1, -1]]], dtype=int32)"
      ]
     },
     "execution_count": 16,
     "metadata": {},
     "output_type": "execute_result"
    }
   ],
   "source": [
    "_, contours, hierarchy = cv2.findContours(thresh.copy(),\n",
    "                                          cv2.RETR_TREE,\n",
    "                                          cv2.CHAIN_APPROX_SIMPLE)\n",
    "hierarchy"
   ]
  }
 ],
 "metadata": {
  "anaconda-cloud": {},
  "kernelspec": {
   "display_name": "Python [conda root]",
   "language": "python",
   "name": "conda-root-py"
  },
  "language_info": {
   "codemirror_mode": {
    "name": "ipython",
    "version": 3
   },
   "file_extension": ".py",
   "mimetype": "text/x-python",
   "name": "python",
   "nbconvert_exporter": "python",
   "pygments_lexer": "ipython3",
   "version": "3.5.2"
  }
 },
 "nbformat": 4,
 "nbformat_minor": 1
}
