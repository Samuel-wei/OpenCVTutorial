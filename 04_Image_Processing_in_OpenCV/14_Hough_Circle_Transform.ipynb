{
 "cells": [
  {
   "cell_type": "markdown",
   "metadata": {},
   "source": [
    "# 目标\n",
    "- 学习如何用霍夫变换检测图像中的圆。\n",
    "- 涉及函数：**cv2.HoughCircles()**\n",
    "\n",
    "# 1. 理论\n",
    "一个圆的数学表示为：$(x-x_{center})^2 + (y-y_{center})^2=r^2$，其中$(x_{center},y_{center})$是圆心，$r$是圆的半径。一个圆可以用三个参数来表示，因此需要一个三维的累加器用于霍夫变换，这样的效率太低。因此在OpenCV中采用了更有技巧的方法：**霍夫梯度方法**，该方法利用了边缘的梯度信息。\n",
    "\n",
    "利用**cv2.HoughCircles()**可以进行圆的检测，该函数有很多参数：\n",
    "- **method** - 目前只实现了**CV_HOUGH_GRADIENT**。\n",
    "- **dp** - 图像分辨率与累加器分辨率的比值，如果dp=1则二者相同，若dp=2则累加器分辨率只有图像分辨率的一半。\n",
    "- **minDist** - 检测到的圆之间的最小距离。\n",
    "- **param1** - 是Canny边缘检测中较大的那个参数，较小的参数是该值的一半。\n",
    "- **param2** - 是累加器的阈值，决定了至少要多少票才能被选中。\n",
    "- **minRadius** - 最小的圆半径。\n",
    "- **maxRadius** - 最大的圆半径。"
   ]
  },
  {
   "cell_type": "code",
   "execution_count": 1,
   "metadata": {
    "collapsed": true
   },
   "outputs": [],
   "source": [
    "from __future__ import print_function\n",
    "from __future__ import division\n",
    "import numpy as np\n",
    "import matplotlib.pyplot as plt\n",
    "import cv2\n",
    "%matplotlib inline"
   ]
  },
  {
   "cell_type": "code",
   "execution_count": 2,
   "metadata": {
    "collapsed": false
   },
   "outputs": [
    {
     "data": {
      "text/plain": [
       "<matplotlib.image.AxesImage at 0x112a9ab37b8>"
      ]
     },
     "execution_count": 2,
     "metadata": {},
     "output_type": "execute_result"
    },
    {
     "data": {
      "image/png": "[encoded data removed]",
      "text/plain": [
       "<matplotlib.figure.Figure at 0x112a99b3978>"
      ]
     },
     "metadata": {},
     "output_type": "display_data"
    }
   ],
   "source": [
    "img = cv2.imread('../data/opencv-logo-white.png', cv2.IMREAD_GRAYSCALE)\n",
    "img = cv2.medianBlur(img, 5)\n",
    "cimg = cv2.cvtColor(img, cv2.COLOR_GRAY2BGR)\n",
    "\n",
    "circles = cv2.HoughCircles(img, cv2.HOUGH_GRADIENT, 1, 20,\n",
    "                          param1=150, param2=30, minRadius=0, maxRadius=0)\n",
    "\n",
    "circles = np.uint16(np.around(circles))\n",
    "for i in circles[0, :]:\n",
    "    # 绘制圆\n",
    "    cv2.circle(cimg, (i[0], i[1]), i[2], (0, 255, 0), 2)\n",
    "    # 绘制圆心\n",
    "    cv2.circle(cimg, (i[0], i[1]), 2, (0, 0, 255), 3)\n",
    "\n",
    "plt.imshow(cimg[:, :, ::-1])"
   ]
  }
 ],
 "metadata": {
  "kernelspec": {
   "display_name": "Python [Root]",
   "language": "python",
   "name": "Python [Root]"
  },
  "language_info": {
   "codemirror_mode": {
    "name": "ipython",
    "version": 3
   },
   "file_extension": ".py",
   "mimetype": "text/x-python",
   "name": "python",
   "nbconvert_exporter": "python",
   "pygments_lexer": "ipython3",
   "version": "3.5.2"
  }
 },
 "nbformat": 4,
 "nbformat_minor": 0
}
