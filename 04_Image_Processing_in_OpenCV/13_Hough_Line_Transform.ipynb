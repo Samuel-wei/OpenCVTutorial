{
 "cells": [
  {
   "cell_type": "markdown",
   "metadata": {},
   "source": [
    "# 目标\n",
    "- 理解霍夫变换的概念。\n",
    "- 如何在图像中检测直线\n",
    "- 涉及的函数：**cv2.HoughLines()**和**cv2.HoughLinesP()**。\n",
    "\n",
    "# 1. 理论\n",
    "霍夫变换是一种用于检测可以用数学形式表达的形状的技术，甚至可以检测到轻微断开或变形的形状。本教程中将进行直线的检测。\n",
    "\n",
    "一条直线可以表示为$y = mx + c$，或者用参数化的形式表示为$\\rho = x cos \\theta + y sin \\theta$，其中$\\rho$是原点到直线的垂直距离，$\\theta$是该垂直线与水平轴沿逆时针方向的角度（方向取决于坐标系统的表示，这种表示是用于OpenCV中的）。如下图所示：![](./imgs/houghlines1.svg)\n",
    "\n",
    "因此，如果一条直线经过原点下方，它的$\\rho$为正，且$\\theta$小于180度。如果直线在原点的上方，角度依然保持小于180度，而是把$\\rho$设为负值。任意垂直线的角度为0度，水平线的角度为90度。\n",
    "\n",
    "下面介绍霍夫变换是如何找到直线的。任意一条直线可以被表示为两个项$(\\rho, \\theta)$。因此，首先创建一个二维数组作为累加器（用于保存直线的两个参数），并初始化为0。令行表示$\\rho$，列表示$\\theta$。数组的尺寸取决于所需要的精度。假设角度的精度为1°，那么需要180列。对于$\\rho$，最大的距离可能是图像对角线的长度，设精度为1个像素，因此行数是图像对角线的长度。\n",
    "\n",
    "考虑一幅100x100的图像，并在图像中央有一条水平线。首先取直线的第一个点，能够知道该点$(x,y)$的值。在直线方程中，设$\\theta = 0, 1, 2, \\dots , 180$然后计算$\\rho$的值。对于每一个$(\\rho, \\theta)$对，将累加器中对应的$(\\rho, \\theta)$单元加一。\n",
    "\n",
    "然后取直线的第二个点，做同样的操作，将所得到的$(\\rho, \\theta)$对应单元的值加一。实际上是在对$(\\rho, \\theta)$进行投票。"
   ]
  }
 ],
 "metadata": {
  "anaconda-cloud": {},
  "kernelspec": {
   "display_name": "Python [conda root]",
   "language": "python",
   "name": "conda-root-py"
  },
  "language_info": {
   "codemirror_mode": {
    "name": "ipython",
    "version": 3
   },
   "file_extension": ".py",
   "mimetype": "text/x-python",
   "name": "python",
   "nbconvert_exporter": "python",
   "pygments_lexer": "ipython3",
   "version": "3.5.2"
  }
 },
 "nbformat": 4,
 "nbformat_minor": 1
}
